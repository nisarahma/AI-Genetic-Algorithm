{
  "nbformat": 4,
  "nbformat_minor": 0,
  "metadata": {
    "kernelspec": {
      "display_name": "Python 3",
      "language": "python",
      "name": "python3"
    },
    "language_info": {
      "codemirror_mode": {
        "name": "ipython",
        "version": 3
      },
      "file_extension": ".py",
      "mimetype": "text/x-python",
      "name": "python",
      "nbconvert_exporter": "python",
      "pygments_lexer": "ipython3",
      "version": "3.7.3"
    },
    "colab": {
      "name": "AINisa.ipynb",
      "provenance": []
    }
  },
  "cells": [
    {
      "cell_type": "code",
      "metadata": {
        "id": "fqmH3gAI4EKa",
        "colab_type": "code",
        "colab": {}
      },
      "source": [
        "import numpy as np\n",
        "import math\n",
        "import matplotlib.pyplot as plt\n",
        "import random\n",
        "from tqdm import tqdm"
      ],
      "execution_count": 0,
      "outputs": []
    },
    {
      "cell_type": "code",
      "metadata": {
        "id": "T-U-pmWh4EKc",
        "colab_type": "code",
        "colab": {}
      },
      "source": [
        "def fungsi(x1,x2):\n",
        "    return (4-2*x1**2+x1**4/3)*x1**2+x1*x2+(-4+4*x2**2)*x2**2"
      ],
      "execution_count": 0,
      "outputs": []
    },
    {
      "cell_type": "code",
      "metadata": {
        "id": "PpwoojOc4EKe",
        "colab_type": "code",
        "colab": {}
      },
      "source": [
        "def in_populasi(col,row) :\n",
        "    return [[random.randint(0,1) for _ in range(col*2)] for _ in range(row)]"
      ],
      "execution_count": 0,
      "outputs": []
    },
    {
      "cell_type": "code",
      "metadata": {
        "id": "CL29GJjN4EKg",
        "colab_type": "code",
        "colab": {}
      },
      "source": [
        "def decode(kromosom,gen):\n",
        "    x1 = kromosom [:int(gen)]\n",
        "    x2 = kromosom [int(gen):]\n",
        "\n",
        "    bawah = np.sum([2**(-i) for i in range(gen)])\n",
        "\n",
        "    x1 = -3 + (6/bawah) * (np.sum([x1[i]*2**(-i) for i in range(gen)]))\n",
        "    x2 = -2 + (4/bawah) * (np.sum([x2[i]*2**(-i) for i in range(gen)]))\n",
        "    return x1,x2"
      ],
      "execution_count": 0,
      "outputs": []
    },
    {
      "cell_type": "code",
      "metadata": {
        "id": "jO7BsQzL4EKl",
        "colab_type": "code",
        "colab": {}
      },
      "source": [
        "def fitness_eval(fenotype):\n",
        "    return -fungsi(fenotype[0],fenotype[1])"
      ],
      "execution_count": 0,
      "outputs": []
    },
    {
      "cell_type": "code",
      "metadata": {
        "id": "QGLjifHI4EKn",
        "colab_type": "code",
        "colab": {}
      },
      "source": [
        "def get_probability(fitness_list):\n",
        "    total_fitness = np.sum(fitness_list)\n",
        "    relative_fitness = [f/total_fitness for f in fitness_list]\n",
        "    \n",
        "    prob_list = [np.sum(relative_fitness[:i+1]) for i in range (len(relative_fitness))]\n",
        "    \n",
        "    return prob_list"
      ],
      "execution_count": 0,
      "outputs": []
    },
    {
      "cell_type": "code",
      "metadata": {
        "id": "pASbkLp74EKo",
        "colab_type": "code",
        "colab": {}
      },
      "source": [
        "def roulette_wheel(n,population,prob_list,nparent):\n",
        "    chosen = []\n",
        "    for _ in range (nparent):\n",
        "        r = random.random()\n",
        "        for i in range(n):\n",
        "            if r <= prob_list[i]:\n",
        "                chosen.append(population[i])\n",
        "                break\n",
        "    return chosen            "
      ],
      "execution_count": 0,
      "outputs": []
    },
    {
      "cell_type": "code",
      "metadata": {
        "id": "1q_dN0ri4EKq",
        "colab_type": "code",
        "colab": {}
      },
      "source": [
        "def turunan(parent,m):\n",
        "    crossover_point = random.randint(1, (m*2)-1)\n",
        "    child_1 = np.hstack ((parent[0][0:crossover_point],\n",
        "                         parent[1][crossover_point:]))\n",
        "    \n",
        "    child_2 = np.hstack ((parent[1][0:crossover_point],\n",
        "                         parent[0][crossover_point:]))\n",
        "    return child_1, child_2"
      ],
      "execution_count": 0,
      "outputs": []
    },
    {
      "cell_type": "code",
      "metadata": {
        "id": "hUhyVTuv4EKr",
        "colab_type": "code",
        "colab": {}
      },
      "source": [
        "def mutasi(population, mutation_prob):\n",
        "    random_mutation_array = np.random.random(\n",
        "        size=(population.shape))\n",
        "    \n",
        "    random_mutation_boolean = \\\n",
        "        random_mutation_array <= mutation_prob\n",
        "    \n",
        "    population[random_mutation_boolean] = \\\n",
        "    np.logical_not(population[random_mutation_boolean])\n",
        "    \n",
        "    return population"
      ],
      "execution_count": 0,
      "outputs": []
    },
    {
      "cell_type": "code",
      "metadata": {
        "id": "nKhVjwBn4EKt",
        "colab_type": "code",
        "colab": {}
      },
      "source": [
        "def good(population,m,fitness):\n",
        "    selectedf = []\n",
        "    p1, p2 = np.sort(fitness)[::-1][:2]\n",
        "    for i in range(len(population)):\n",
        "        if fitness[i] == p1:\n",
        "            selectedf.append(population[i])\n",
        "            break\n",
        "    for i in range(len(population)):\n",
        "        if fitness[i] == p2:\n",
        "            selectedf.append(population[i])\n",
        "            break\n",
        "    return selectedf         "
      ],
      "execution_count": 0,
      "outputs": []
    },
    {
      "cell_type": "code",
      "metadata": {
        "id": "r-3XoitC5L28",
        "colab_type": "code",
        "colab": {}
      },
      "source": [
        "def get_bestofthebest(fitness_list, fenotype_list):\n",
        "    maxf = np.max(fitness_list)\n",
        "    maxi = fenotype_list[0]\n",
        "    for i in range(len(fitness_list)):\n",
        "      if fitness_eval(fenotype_list[i]) == maxf:\n",
        "        maxi = fenotype_list[i]\n",
        "        break\n",
        "    return maxi"
      ],
      "execution_count": 0,
      "outputs": []
    },
    {
      "cell_type": "code",
      "metadata": {
        "id": "pEXuEtk_4EKu",
        "colab_type": "code",
        "colab": {}
      },
      "source": [
        "banyakpop = 20\n",
        "gen = 6"
      ],
      "execution_count": 0,
      "outputs": []
    },
    {
      "cell_type": "code",
      "metadata": {
        "id": "nCP--5i94EKw",
        "colab_type": "code",
        "colab": {}
      },
      "source": [
        "populasi = in_populasi(gen, banyakpop)"
      ],
      "execution_count": 0,
      "outputs": []
    },
    {
      "cell_type": "code",
      "metadata": {
        "id": "fISaOUyx4EKy",
        "colab_type": "code",
        "outputId": "cb6bceef-bd25-4979-c0fe-9147925e4339",
        "colab": {
          "base_uri": "https://localhost:8080/",
          "height": 1000
        }
      },
      "source": [
        "for i in range(100):\n",
        "    fenotype_list = [decode(i,gen) for i in populasi]\n",
        "    fitness_list = [fitness_eval(i) for i in fenotype_list]\n",
        "    best = get_bestofthebest(fitness_list, fenotype_list)\n",
        "    print(\"Generasi: \",i+1, \", nilai fitnes terbaik:\",fitness_eval(best), \", Nilai x1, x2\", best, \", hasil fungsi:\", fungsi(best[0], best[1]))\n",
        "    new_pop = good(populasi, gen, fitness_list)\n",
        "    while (len(new_pop) < banyakpop):\n",
        "        prob_list = get_probability(fitness_list)\n",
        "        parent = roulette_wheel(banyakpop, populasi, prob_list, 2)\n",
        "        child1, child2 = turunan(parent,gen)\n",
        "        offspring1 = mutasi(np.asarray(child1),0.1)\n",
        "        offspring2 = mutasi(np.asarray(child2),0.1)\n",
        "        \n",
        "        new_pop.append(offspring1)\n",
        "        new_pop.append(offspring2)\n",
        "    populasi = new_pop"
      ],
      "execution_count": 0,
      "outputs": [
        {
          "output_type": "stream",
          "text": [
            "Generasi:  1 , nilai fitnes terbaik: 0.5758366277156094 , Nilai x1, x2 (0.04761904761904745, -0.4126984126984128) , hasil fungsi: -0.5758366277156094\n",
            "Generasi:  2 , nilai fitnes terbaik: 0.5758366277156094 , Nilai x1, x2 (0.04761904761904745, -0.4126984126984128) , hasil fungsi: -0.5758366277156094\n",
            "Generasi:  3 , nilai fitnes terbaik: 0.5758366277156094 , Nilai x1, x2 (0.04761904761904745, -0.4126984126984128) , hasil fungsi: -0.5758366277156094\n",
            "Generasi:  4 , nilai fitnes terbaik: 0.5758366277156094 , Nilai x1, x2 (0.04761904761904745, -0.4126984126984128) , hasil fungsi: -0.5758366277156094\n",
            "Generasi:  5 , nilai fitnes terbaik: 0.5758366277156094 , Nilai x1, x2 (0.04761904761904745, -0.4126984126984128) , hasil fungsi: -0.5758366277156094\n",
            "Generasi:  6 , nilai fitnes terbaik: 0.5758366277156094 , Nilai x1, x2 (0.04761904761904745, -0.4126984126984128) , hasil fungsi: -0.5758366277156094\n",
            "Generasi:  7 , nilai fitnes terbaik: 0.5758366277156094 , Nilai x1, x2 (0.04761904761904745, -0.4126984126984128) , hasil fungsi: -0.5758366277156094\n",
            "Generasi:  8 , nilai fitnes terbaik: 0.5758366277156094 , Nilai x1, x2 (0.04761904761904745, -0.4126984126984128) , hasil fungsi: -0.5758366277156094\n",
            "Generasi:  9 , nilai fitnes terbaik: 0.5758366277156094 , Nilai x1, x2 (0.04761904761904745, -0.4126984126984128) , hasil fungsi: -0.5758366277156094\n",
            "Generasi:  10 , nilai fitnes terbaik: 0.5758366277156094 , Nilai x1, x2 (0.04761904761904745, -0.4126984126984128) , hasil fungsi: -0.5758366277156094\n",
            "Generasi:  11 , nilai fitnes terbaik: 1.0020899161336676 , Nilai x1, x2 (-0.14285714285714324, 0.6666666666666665) , hasil fungsi: -1.0020899161336676\n",
            "Generasi:  12 , nilai fitnes terbaik: 1.0020899161336676 , Nilai x1, x2 (-0.14285714285714324, 0.6666666666666665) , hasil fungsi: -1.0020899161336676\n",
            "Generasi:  13 , nilai fitnes terbaik: 1.0020899161336676 , Nilai x1, x2 (-0.14285714285714324, 0.6666666666666665) , hasil fungsi: -1.0020899161336676\n",
            "Generasi:  14 , nilai fitnes terbaik: 1.0020899161336676 , Nilai x1, x2 (-0.14285714285714324, 0.6666666666666665) , hasil fungsi: -1.0020899161336676\n",
            "Generasi:  15 , nilai fitnes terbaik: 1.0020899161336676 , Nilai x1, x2 (-0.14285714285714324, 0.6666666666666665) , hasil fungsi: -1.0020899161336676\n",
            "Generasi:  16 , nilai fitnes terbaik: 1.0020899161336676 , Nilai x1, x2 (-0.14285714285714324, 0.6666666666666665) , hasil fungsi: -1.0020899161336676\n",
            "Generasi:  17 , nilai fitnes terbaik: 1.0020899161336676 , Nilai x1, x2 (-0.14285714285714324, 0.6666666666666665) , hasil fungsi: -1.0020899161336676\n",
            "Generasi:  18 , nilai fitnes terbaik: 1.0020899161336676 , Nilai x1, x2 (-0.14285714285714324, 0.6666666666666665) , hasil fungsi: -1.0020899161336676\n",
            "Generasi:  19 , nilai fitnes terbaik: 1.0020899161336676 , Nilai x1, x2 (-0.14285714285714324, 0.6666666666666665) , hasil fungsi: -1.0020899161336676\n",
            "Generasi:  20 , nilai fitnes terbaik: 1.0020899161336676 , Nilai x1, x2 (-0.14285714285714324, 0.6666666666666665) , hasil fungsi: -1.0020899161336676\n",
            "Generasi:  21 , nilai fitnes terbaik: 1.0020899161336676 , Nilai x1, x2 (-0.14285714285714324, 0.6666666666666665) , hasil fungsi: -1.0020899161336676\n",
            "Generasi:  22 , nilai fitnes terbaik: 1.0020899161336676 , Nilai x1, x2 (-0.14285714285714324, 0.6666666666666665) , hasil fungsi: -1.0020899161336676\n",
            "Generasi:  23 , nilai fitnes terbaik: 1.0020899161336676 , Nilai x1, x2 (-0.14285714285714324, 0.6666666666666665) , hasil fungsi: -1.0020899161336676\n",
            "Generasi:  24 , nilai fitnes terbaik: 1.0020899161336676 , Nilai x1, x2 (-0.14285714285714324, 0.6666666666666665) , hasil fungsi: -1.0020899161336676\n",
            "Generasi:  25 , nilai fitnes terbaik: 1.0020899161336676 , Nilai x1, x2 (-0.14285714285714324, 0.6666666666666665) , hasil fungsi: -1.0020899161336676\n",
            "Generasi:  26 , nilai fitnes terbaik: 1.0020899161336676 , Nilai x1, x2 (-0.14285714285714324, 0.6666666666666665) , hasil fungsi: -1.0020899161336676\n",
            "Generasi:  27 , nilai fitnes terbaik: 1.0020899161336676 , Nilai x1, x2 (-0.14285714285714324, 0.6666666666666665) , hasil fungsi: -1.0020899161336676\n",
            "Generasi:  28 , nilai fitnes terbaik: 1.010340337843502 , Nilai x1, x2 (-0.047619047619047894, 0.6666666666666665) , hasil fungsi: -1.010340337843502\n",
            "Generasi:  29 , nilai fitnes terbaik: 1.010340337843502 , Nilai x1, x2 (-0.047619047619047894, 0.6666666666666665) , hasil fungsi: -1.010340337843502\n",
            "Generasi:  30 , nilai fitnes terbaik: 1.010340337843502 , Nilai x1, x2 (-0.047619047619047894, 0.6666666666666665) , hasil fungsi: -1.010340337843502\n",
            "Generasi:  31 , nilai fitnes terbaik: 1.010340337843502 , Nilai x1, x2 (-0.047619047619047894, 0.6666666666666665) , hasil fungsi: -1.010340337843502\n",
            "Generasi:  32 , nilai fitnes terbaik: 1.010340337843502 , Nilai x1, x2 (-0.047619047619047894, 0.6666666666666665) , hasil fungsi: -1.010340337843502\n",
            "Generasi:  33 , nilai fitnes terbaik: 1.010340337843502 , Nilai x1, x2 (-0.047619047619047894, 0.6666666666666665) , hasil fungsi: -1.010340337843502\n",
            "Generasi:  34 , nilai fitnes terbaik: 1.010340337843502 , Nilai x1, x2 (-0.047619047619047894, 0.6666666666666665) , hasil fungsi: -1.010340337843502\n",
            "Generasi:  35 , nilai fitnes terbaik: 1.010340337843502 , Nilai x1, x2 (-0.047619047619047894, 0.6666666666666665) , hasil fungsi: -1.010340337843502\n",
            "Generasi:  36 , nilai fitnes terbaik: 1.010340337843502 , Nilai x1, x2 (-0.047619047619047894, 0.6666666666666665) , hasil fungsi: -1.010340337843502\n",
            "Generasi:  37 , nilai fitnes terbaik: 1.010340337843502 , Nilai x1, x2 (-0.047619047619047894, 0.6666666666666665) , hasil fungsi: -1.010340337843502\n",
            "Generasi:  38 , nilai fitnes terbaik: 1.010340337843502 , Nilai x1, x2 (-0.047619047619047894, 0.6666666666666665) , hasil fungsi: -1.010340337843502\n",
            "Generasi:  39 , nilai fitnes terbaik: 1.010340337843502 , Nilai x1, x2 (-0.047619047619047894, 0.6666666666666665) , hasil fungsi: -1.010340337843502\n",
            "Generasi:  40 , nilai fitnes terbaik: 1.010340337843502 , Nilai x1, x2 (-0.047619047619047894, 0.6666666666666665) , hasil fungsi: -1.010340337843502\n",
            "Generasi:  41 , nilai fitnes terbaik: 1.010340337843502 , Nilai x1, x2 (-0.047619047619047894, 0.6666666666666665) , hasil fungsi: -1.010340337843502\n",
            "Generasi:  42 , nilai fitnes terbaik: 1.010340337843502 , Nilai x1, x2 (-0.047619047619047894, 0.6666666666666665) , hasil fungsi: -1.010340337843502\n",
            "Generasi:  43 , nilai fitnes terbaik: 1.010340337843502 , Nilai x1, x2 (-0.047619047619047894, 0.6666666666666665) , hasil fungsi: -1.010340337843502\n",
            "Generasi:  44 , nilai fitnes terbaik: 1.010340337843502 , Nilai x1, x2 (-0.047619047619047894, 0.6666666666666665) , hasil fungsi: -1.010340337843502\n",
            "Generasi:  45 , nilai fitnes terbaik: 1.010340337843502 , Nilai x1, x2 (-0.047619047619047894, 0.6666666666666665) , hasil fungsi: -1.010340337843502\n",
            "Generasi:  46 , nilai fitnes terbaik: 1.010340337843502 , Nilai x1, x2 (-0.047619047619047894, 0.6666666666666665) , hasil fungsi: -1.010340337843502\n",
            "Generasi:  47 , nilai fitnes terbaik: 1.010340337843502 , Nilai x1, x2 (-0.047619047619047894, 0.6666666666666665) , hasil fungsi: -1.010340337843502\n",
            "Generasi:  48 , nilai fitnes terbaik: 1.010340337843502 , Nilai x1, x2 (-0.047619047619047894, 0.6666666666666665) , hasil fungsi: -1.010340337843502\n",
            "Generasi:  49 , nilai fitnes terbaik: 1.010340337843502 , Nilai x1, x2 (-0.047619047619047894, 0.6666666666666665) , hasil fungsi: -1.010340337843502\n",
            "Generasi:  50 , nilai fitnes terbaik: 1.010340337843502 , Nilai x1, x2 (-0.047619047619047894, 0.6666666666666665) , hasil fungsi: -1.010340337843502\n",
            "Generasi:  51 , nilai fitnes terbaik: 1.010340337843502 , Nilai x1, x2 (-0.047619047619047894, 0.6666666666666665) , hasil fungsi: -1.010340337843502\n",
            "Generasi:  52 , nilai fitnes terbaik: 1.010340337843502 , Nilai x1, x2 (-0.047619047619047894, 0.6666666666666665) , hasil fungsi: -1.010340337843502\n",
            "Generasi:  53 , nilai fitnes terbaik: 1.010340337843502 , Nilai x1, x2 (-0.047619047619047894, 0.6666666666666665) , hasil fungsi: -1.010340337843502\n",
            "Generasi:  54 , nilai fitnes terbaik: 1.010340337843502 , Nilai x1, x2 (-0.047619047619047894, 0.6666666666666665) , hasil fungsi: -1.010340337843502\n",
            "Generasi:  55 , nilai fitnes terbaik: 1.010340337843502 , Nilai x1, x2 (-0.047619047619047894, 0.6666666666666665) , hasil fungsi: -1.010340337843502\n",
            "Generasi:  56 , nilai fitnes terbaik: 1.010340337843502 , Nilai x1, x2 (-0.047619047619047894, 0.6666666666666665) , hasil fungsi: -1.010340337843502\n",
            "Generasi:  57 , nilai fitnes terbaik: 1.010340337843502 , Nilai x1, x2 (-0.047619047619047894, 0.6666666666666665) , hasil fungsi: -1.010340337843502\n",
            "Generasi:  58 , nilai fitnes terbaik: 1.010340337843502 , Nilai x1, x2 (-0.047619047619047894, 0.6666666666666665) , hasil fungsi: -1.010340337843502\n",
            "Generasi:  59 , nilai fitnes terbaik: 1.010340337843502 , Nilai x1, x2 (-0.047619047619047894, 0.6666666666666665) , hasil fungsi: -1.010340337843502\n",
            "Generasi:  60 , nilai fitnes terbaik: 1.010340337843502 , Nilai x1, x2 (-0.047619047619047894, 0.6666666666666665) , hasil fungsi: -1.010340337843502\n",
            "Generasi:  61 , nilai fitnes terbaik: 1.010340337843502 , Nilai x1, x2 (-0.047619047619047894, 0.6666666666666665) , hasil fungsi: -1.010340337843502\n",
            "Generasi:  62 , nilai fitnes terbaik: 1.010340337843502 , Nilai x1, x2 (-0.047619047619047894, 0.6666666666666665) , hasil fungsi: -1.010340337843502\n",
            "Generasi:  63 , nilai fitnes terbaik: 1.010340337843502 , Nilai x1, x2 (-0.047619047619047894, 0.6666666666666665) , hasil fungsi: -1.010340337843502\n",
            "Generasi:  64 , nilai fitnes terbaik: 1.010340337843502 , Nilai x1, x2 (-0.047619047619047894, 0.6666666666666665) , hasil fungsi: -1.010340337843502\n",
            "Generasi:  65 , nilai fitnes terbaik: 1.010340337843502 , Nilai x1, x2 (-0.047619047619047894, 0.6666666666666665) , hasil fungsi: -1.010340337843502\n",
            "Generasi:  66 , nilai fitnes terbaik: 1.010340337843502 , Nilai x1, x2 (-0.047619047619047894, 0.6666666666666665) , hasil fungsi: -1.010340337843502\n",
            "Generasi:  67 , nilai fitnes terbaik: 1.010340337843502 , Nilai x1, x2 (-0.047619047619047894, 0.6666666666666665) , hasil fungsi: -1.010340337843502\n",
            "Generasi:  68 , nilai fitnes terbaik: 1.010340337843502 , Nilai x1, x2 (-0.047619047619047894, 0.6666666666666665) , hasil fungsi: -1.010340337843502\n",
            "Generasi:  69 , nilai fitnes terbaik: 1.010340337843502 , Nilai x1, x2 (-0.047619047619047894, 0.6666666666666665) , hasil fungsi: -1.010340337843502\n",
            "Generasi:  70 , nilai fitnes terbaik: 1.010340337843502 , Nilai x1, x2 (-0.047619047619047894, 0.6666666666666665) , hasil fungsi: -1.010340337843502\n",
            "Generasi:  71 , nilai fitnes terbaik: 1.010340337843502 , Nilai x1, x2 (-0.047619047619047894, 0.6666666666666665) , hasil fungsi: -1.010340337843502\n",
            "Generasi:  72 , nilai fitnes terbaik: 1.010340337843502 , Nilai x1, x2 (-0.047619047619047894, 0.6666666666666665) , hasil fungsi: -1.010340337843502\n",
            "Generasi:  73 , nilai fitnes terbaik: 1.010340337843502 , Nilai x1, x2 (-0.047619047619047894, 0.6666666666666665) , hasil fungsi: -1.010340337843502\n",
            "Generasi:  74 , nilai fitnes terbaik: 1.010340337843502 , Nilai x1, x2 (-0.047619047619047894, 0.6666666666666665) , hasil fungsi: -1.010340337843502\n",
            "Generasi:  75 , nilai fitnes terbaik: 1.010340337843502 , Nilai x1, x2 (-0.047619047619047894, 0.6666666666666665) , hasil fungsi: -1.010340337843502\n",
            "Generasi:  76 , nilai fitnes terbaik: 1.010340337843502 , Nilai x1, x2 (-0.047619047619047894, 0.6666666666666665) , hasil fungsi: -1.010340337843502\n",
            "Generasi:  77 , nilai fitnes terbaik: 1.010340337843502 , Nilai x1, x2 (-0.047619047619047894, 0.6666666666666665) , hasil fungsi: -1.010340337843502\n",
            "Generasi:  78 , nilai fitnes terbaik: 1.010340337843502 , Nilai x1, x2 (-0.047619047619047894, 0.6666666666666665) , hasil fungsi: -1.010340337843502\n",
            "Generasi:  79 , nilai fitnes terbaik: 1.010340337843502 , Nilai x1, x2 (-0.047619047619047894, 0.6666666666666665) , hasil fungsi: -1.010340337843502\n",
            "Generasi:  80 , nilai fitnes terbaik: 1.010340337843502 , Nilai x1, x2 (-0.047619047619047894, 0.6666666666666665) , hasil fungsi: -1.010340337843502\n",
            "Generasi:  81 , nilai fitnes terbaik: 1.010340337843502 , Nilai x1, x2 (-0.047619047619047894, 0.6666666666666665) , hasil fungsi: -1.010340337843502\n",
            "Generasi:  82 , nilai fitnes terbaik: 1.010340337843502 , Nilai x1, x2 (-0.047619047619047894, 0.6666666666666665) , hasil fungsi: -1.010340337843502\n",
            "Generasi:  83 , nilai fitnes terbaik: 1.010340337843502 , Nilai x1, x2 (-0.047619047619047894, 0.6666666666666665) , hasil fungsi: -1.010340337843502\n",
            "Generasi:  84 , nilai fitnes terbaik: 1.010340337843502 , Nilai x1, x2 (-0.047619047619047894, 0.6666666666666665) , hasil fungsi: -1.010340337843502\n",
            "Generasi:  85 , nilai fitnes terbaik: 1.0213185913921523 , Nilai x1, x2 (-0.047619047619047894, 0.7301587301587302) , hasil fungsi: -1.0213185913921523\n",
            "Generasi:  86 , nilai fitnes terbaik: 1.0213185913921523 , Nilai x1, x2 (-0.047619047619047894, 0.7301587301587302) , hasil fungsi: -1.0213185913921523\n",
            "Generasi:  87 , nilai fitnes terbaik: 1.0213185913921523 , Nilai x1, x2 (-0.047619047619047894, 0.7301587301587302) , hasil fungsi: -1.0213185913921523\n",
            "Generasi:  88 , nilai fitnes terbaik: 1.0213185913921523 , Nilai x1, x2 (-0.047619047619047894, 0.7301587301587302) , hasil fungsi: -1.0213185913921523\n",
            "Generasi:  89 , nilai fitnes terbaik: 1.0213185913921523 , Nilai x1, x2 (-0.047619047619047894, 0.7301587301587302) , hasil fungsi: -1.0213185913921523\n",
            "Generasi:  90 , nilai fitnes terbaik: 1.0213185913921523 , Nilai x1, x2 (-0.047619047619047894, 0.7301587301587302) , hasil fungsi: -1.0213185913921523\n",
            "Generasi:  91 , nilai fitnes terbaik: 1.0213185913921523 , Nilai x1, x2 (-0.047619047619047894, 0.7301587301587302) , hasil fungsi: -1.0213185913921523\n",
            "Generasi:  92 , nilai fitnes terbaik: 1.0213185913921523 , Nilai x1, x2 (-0.047619047619047894, 0.7301587301587302) , hasil fungsi: -1.0213185913921523\n",
            "Generasi:  93 , nilai fitnes terbaik: 1.0213185913921523 , Nilai x1, x2 (-0.047619047619047894, 0.7301587301587302) , hasil fungsi: -1.0213185913921523\n",
            "Generasi:  94 , nilai fitnes terbaik: 1.0213185913921523 , Nilai x1, x2 (-0.047619047619047894, 0.7301587301587302) , hasil fungsi: -1.0213185913921523\n",
            "Generasi:  95 , nilai fitnes terbaik: 1.0213185913921523 , Nilai x1, x2 (-0.047619047619047894, 0.7301587301587302) , hasil fungsi: -1.0213185913921523\n",
            "Generasi:  96 , nilai fitnes terbaik: 1.0213185913921523 , Nilai x1, x2 (-0.047619047619047894, 0.7301587301587302) , hasil fungsi: -1.0213185913921523\n",
            "Generasi:  97 , nilai fitnes terbaik: 1.0213185913921523 , Nilai x1, x2 (-0.047619047619047894, 0.7301587301587302) , hasil fungsi: -1.0213185913921523\n",
            "Generasi:  98 , nilai fitnes terbaik: 1.0213185913921523 , Nilai x1, x2 (-0.047619047619047894, 0.7301587301587302) , hasil fungsi: -1.0213185913921523\n",
            "Generasi:  99 , nilai fitnes terbaik: 1.0213185913921523 , Nilai x1, x2 (-0.047619047619047894, 0.7301587301587302) , hasil fungsi: -1.0213185913921523\n",
            "Generasi:  100 , nilai fitnes terbaik: 1.0213185913921523 , Nilai x1, x2 (-0.047619047619047894, 0.7301587301587302) , hasil fungsi: -1.0213185913921523\n"
          ],
          "name": "stdout"
        }
      ]
    },
    {
      "cell_type": "code",
      "metadata": {
        "id": "wwfNNLYY4ELG",
        "colab_type": "code",
        "colab": {}
      },
      "source": [
        ""
      ],
      "execution_count": 0,
      "outputs": []
    }
  ]
}